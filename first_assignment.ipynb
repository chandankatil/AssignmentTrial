{
 "cells": [
  {
   "cell_type": "code",
   "execution_count": 1,
   "id": "c4b3df8e-f6c7-43b7-9e61-2751806f2b4e",
   "metadata": {},
   "outputs": [],
   "source": [
    "#1-create one variable containing following type of data"
   ]
  },
  {
   "cell_type": "code",
   "execution_count": 3,
   "id": "0d6041cf-2e4c-42d3-8340-78fa848b5c1c",
   "metadata": {},
   "outputs": [],
   "source": [
    "#for string variable\n",
    "s = \"chandan\"\n",
    "s1 = 'katil'\n",
    "#for list\n",
    "l=[1,2,3,4,56]\n",
    "#for float\n",
    "chandan = 92.5\n",
    "#for touple\n",
    "t=(1,2,3,5,6,70)\n"
   ]
  },
  {
   "cell_type": "code",
   "execution_count": 4,
   "id": "5c510e43-609e-4744-9aa7-18661d4617ae",
   "metadata": {},
   "outputs": [],
   "source": [
    "#2-Given are some following variables containing data"
   ]
  },
  {
   "cell_type": "code",
   "execution_count": 5,
   "id": "2519c4af-031f-417c-a168-2ed0f84e14b3",
   "metadata": {},
   "outputs": [
    {
     "data": {
      "text/plain": [
       "str"
      ]
     },
     "execution_count": 5,
     "metadata": {},
     "output_type": "execute_result"
    }
   ],
   "source": [
    "#(i) var1 =''\n",
    "\n",
    "#Ans--\n",
    "\n",
    "its a string data type\n",
    "#(ii) var2 ='[DS,ML,Python]'\n",
    "its a string data type \n",
    "#(iii) var3 =['Ds','ML','Python']\n",
    "its a list data type\n",
    "#(iv) var4 =1\n",
    "its a int data type\n"
   ]
  },
  {
   "cell_type": "code",
   "execution_count": 6,
   "id": "f2491aa4-64b3-4dc6-a4cf-8c23706e3454",
   "metadata": {},
   "outputs": [],
   "source": [
    "#3-Explain the use of following operators using  an exapmle \n",
    "#(i) /\n",
    "it give us quotient \n",
    "means --45/3 = 15 \n",
    "# %\n",
    "it give us reminder \n",
    "means 8%3=2\n",
    "#//\n",
    "its give a round value quotient called as floor division\n",
    "13//2=7\n",
    "\n",
    "#**\n",
    "its used for squre the value \n",
    "5**5 = 25\n",
    "\n"
   ]
  },
  {
   "cell_type": "code",
   "execution_count": 24,
   "id": "65223445-d154-4d7f-85cc-14dacf67cfa7",
   "metadata": {},
   "outputs": [
    {
     "name": "stdout",
     "output_type": "stream",
     "text": [
      "1 <class 'int'>\n",
      "2 <class 'int'>\n",
      "3 <class 'int'>\n",
      "chandan <class 'str'>\n",
      "katil <class 'str'>\n",
      "45.6 <class 'float'>\n",
      "[1, 2, 3, 4] <class 'list'>\n",
      "(1, 2, 3, 4) <class 'tuple'>\n"
     ]
    }
   ],
   "source": [
    "# 4-Create a list of 10of your choice containing multiple types of data.Using for loop print the element and its data type \n",
    "l=[1,2,3,\"chandan\",\"katil\",45.6,[1,2,3,4],(1,2,3,4)]\n",
    "\n",
    "for i in l:\n",
    "         print((i), type(i))"
   ]
  },
  {
   "cell_type": "code",
   "execution_count": null,
   "id": "fec18256-a04a-4517-8736-441b08ba786e",
   "metadata": {},
   "outputs": [],
   "source": []
  },
  {
   "cell_type": "code",
   "execution_count": 28,
   "id": "d6d54942-3143-44cf-b68c-755d3bb45d76",
   "metadata": {},
   "outputs": [
    {
     "name": "stdout",
     "output_type": "stream",
     "text": [
      "1  --its not divisible by 3\n",
      "2  --its not divisible by 3\n",
      "3  --its  divisible by 3\n",
      "4  --its not divisible by 3\n",
      "5  --its not divisible by 3\n",
      "6  --its  divisible by 3\n",
      "7  --its not divisible by 3\n",
      "8  --its not divisible by 3\n",
      "9  --its  divisible by 3\n",
      "10  --its not divisible by 3\n",
      "11  --its not divisible by 3\n",
      "12  --its  divisible by 3\n",
      "13  --its not divisible by 3\n",
      "14  --its not divisible by 3\n",
      "15  --its  divisible by 3\n",
      "16  --its not divisible by 3\n",
      "17  --its not divisible by 3\n",
      "18  --its  divisible by 3\n",
      "19  --its not divisible by 3\n",
      "20  --its not divisible by 3\n",
      "21  --its  divisible by 3\n",
      "22  --its not divisible by 3\n",
      "23  --its not divisible by 3\n",
      "24  --its  divisible by 3\n",
      "25  --its not divisible by 3\n"
     ]
    }
   ],
   "source": [
    "#6.create a list containing 25 int type data .Using for loop and if and else condition print if the element is divisible by 3 or not \n",
    "\n",
    "l=[1,2,3,4,5,6,7,8,9,10,11,12,13,14,15,16,17,18,19,20,21,22,23,24,25]\n",
    "\n",
    "for i in l:\n",
    "    if i%3==0:\n",
    "        print (i,\" --its  divisible by 3\")\n",
    "    else :\n",
    "        print(i,\" --its not divisible by 3\")\n",
    "    \n",
    "    "
   ]
  },
  {
   "cell_type": "code",
   "execution_count": 29,
   "id": "a10cedbf-f9e3-4300-aab9-7d2e9a6bfe22",
   "metadata": {},
   "outputs": [
    {
     "ename": "SyntaxError",
     "evalue": "invalid syntax (71922538.py, line 2)",
     "output_type": "error",
     "traceback": [
      "\u001b[1;36m  Cell \u001b[1;32mIn[29], line 2\u001b[1;36m\u001b[0m\n\u001b[1;33m    here mutable can be changed or modfified where immutable cant be change\u001b[0m\n\u001b[1;37m         ^\u001b[0m\n\u001b[1;31mSyntaxError\u001b[0m\u001b[1;31m:\u001b[0m invalid syntax\n"
     ]
    }
   ],
   "source": [
    "#7-what do you understand about mutable and immutable data types ? Give exapmles for both showing this property\n",
    "here mutable can be changed or modfified where immutable cant be change \n",
    "mutable is list , dict and sets \n",
    "example -\n",
    "l=[1,2,3,4]\n",
    "if i am going to assing here l[0]=[67,12,23] it get assign new value ...and when i am goig to print l then  value throw [[67,12,23],2,3,4]\n",
    "it means it can be changed \n",
    "where as \n",
    "immutable is numbers , tuples , strings\n",
    "example \n",
    "c=\"chandan\"\n",
    "here whenever i am going to assign new value it would be not change and throw error\n",
    "\n",
    "\n"
   ]
  }
 ],
 "metadata": {
  "kernelspec": {
   "display_name": "Python 3 (ipykernel)",
   "language": "python",
   "name": "python3"
  },
  "language_info": {
   "codemirror_mode": {
    "name": "ipython",
    "version": 3
   },
   "file_extension": ".py",
   "mimetype": "text/x-python",
   "name": "python",
   "nbconvert_exporter": "python",
   "pygments_lexer": "ipython3",
   "version": "3.10.9"
  }
 },
 "nbformat": 4,
 "nbformat_minor": 5
}
